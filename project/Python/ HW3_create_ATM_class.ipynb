{
  "nbformat": 4,
  "nbformat_minor": 0,
  "metadata": {
    "colab": {
      "provenance": [],
      "authorship_tag": "ABX9TyPAWMUpG6+WK/SonyeJ9K91",
      "include_colab_link": true
    },
    "kernelspec": {
      "name": "python3",
      "display_name": "Python 3"
    },
    "language_info": {
      "name": "python"
    }
  },
  "cells": [
    {
      "cell_type": "markdown",
      "metadata": {
        "id": "view-in-github",
        "colab_type": "text"
      },
      "source": [
        "<a href=\"https://colab.research.google.com/github/TonyLee101/data_sciensce_bootcamp7/blob/main/project/Python/%20HW3_create_ATM_class.ipynb\" target=\"_parent\"><img src=\"https://colab.research.google.com/assets/colab-badge.svg\" alt=\"Open In Colab\"/></a>"
      ]
    },
    {
      "cell_type": "code",
      "execution_count": 28,
      "metadata": {
        "id": "f7gQL9X1JB1H"
      },
      "outputs": [],
      "source": [
        "# HW3 - create new ATM class\n",
        "class ATM:\n",
        "    def __init__(self, name, pinID, bank, balance):\n",
        "        self.name = name\n",
        "        self.pinID = pinID\n",
        "        self.bank = bank\n",
        "        self.balance = balance\n",
        "\n",
        "    def get_user_info(self):\n",
        "        print(f\"Name: {self.name}\")\n",
        "        print(f\"pinID: {self.pinID}\")\n",
        "        print(f\"Bank: {self.bank}\")\n",
        "        print(f\"Balance: {self.balance}\")\n",
        "\n",
        "    def deposit(self, amount):\n",
        "        self.balance += amount\n",
        "        print(f\"{self.name} deposit: {amount}\")\n",
        "        print(f\"{self.name} balance is: {self.balance}\")\n",
        "\n",
        "    def withdraw(self, amount):\n",
        "        if self.balance >= amount:\n",
        "            self.balance -= amount\n",
        "            print(f\"{self.name} withdrawn amount: {amount}\")\n",
        "            print(f\"{self.name} balance is: {self.balance}\")\n",
        "        else:\n",
        "            print(\"Insufficient balance.\")\n",
        "\n",
        "    def transfer(self, amount, recipient):\n",
        "        if self.balance >= amount:\n",
        "            self.balance -= amount\n",
        "            recipient.balance += amount\n",
        "            print(f\"{self.name} transferred to {recipient.name} : {amount}\")\n",
        "            print(f\"{self.name} balance is: {self.balance}\")\n",
        "        else:\n",
        "            print(\"Insufficient balance.\")\n",
        "\n",
        "    def check_balance(self):\n",
        "        print(f\"{self.name} balance is: {self.balance}\")\n",
        "\n",
        "    def change_pin(self, old_pin, new_pin):\n",
        "        if old_pin == self.pinID:\n",
        "            self.pinID = new_pin\n",
        "            print(\"PIN changed successfully.\")\n",
        "        else:\n",
        "            print(\"Incorrect PIN.\")\n"
      ]
    },
    {
      "cell_type": "code",
      "source": [
        "# Create a new instance of the ATM class\n",
        "user1 = ATM(\"Oat\", \"0001\", \"Bank A\", 500)\n",
        "user2 = ATM(\"Lin\", \"0002\", \"Bank B\", 1500)\n",
        "\n",
        "# Get user info\n",
        "user1.get_user_info()\n",
        "user2.get_user_info()\n",
        "\n",
        "# Deposit money\n",
        "user1.deposit(100)\n",
        "\n",
        "# Withdraw money\n",
        "user1.withdraw(50)\n",
        "\n",
        "# transfer money\n",
        "user2.transfer(300, user1)\n",
        "\n",
        "# Check balance\n",
        "user1.check_balance()\n",
        "\n",
        "# Change PIN\n",
        "user1.change_pin(\"0001\", \"1234\")\n",
        "print(user1.pinID)\n"
      ],
      "metadata": {
        "colab": {
          "base_uri": "https://localhost:8080/",
          "height": 0
        },
        "id": "ezvioLl2SGnz",
        "outputId": "e1c1da85-d6e8-407e-d814-0ebeeea0bcbb"
      },
      "execution_count": 29,
      "outputs": [
        {
          "output_type": "stream",
          "name": "stdout",
          "text": [
            "Name: Oat\n",
            "pinID: 0001\n",
            "Bank: Bank A\n",
            "Balance: 500\n",
            "Name: Lin\n",
            "pinID: 0002\n",
            "Bank: Bank B\n",
            "Balance: 1500\n",
            "Oat deposit: 100\n",
            "Oat balance is: 600\n",
            "Oat withdrawn amount: 50\n",
            "Oat balance is: 550\n",
            "Lin transferred to Oat : 300\n",
            "Lin balance is: 1200\n",
            "Oat balance is: 850\n",
            "PIN changed successfully.\n",
            "1234\n"
          ]
        }
      ]
    },
    {
      "cell_type": "code",
      "source": [],
      "metadata": {
        "id": "ZWIY3pu1abJM"
      },
      "execution_count": null,
      "outputs": []
    }
  ]
}